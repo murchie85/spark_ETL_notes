{
 "cells": [
  {
   "cell_type": "code",
   "execution_count": 20,
   "metadata": {},
   "outputs": [],
   "source": [
    "import sys\n",
    "import findspark\n",
    "findspark.init('/opt/apache-spark/spark-2.4.7-bin-hadoop2.7')\n",
    "from pyspark import SparkContext, SparkConf\n",
    "import shutil\n",
    "import re\n",
    "\n",
    "class Utils():\n",
    "\n",
    "    COMMA_DELIMITER = re.compile(''',(?=(?:[^\"]*\"[^\"]*\")*[^\"]*$)''')\n",
    "\n",
    "def splitComma(line: str):\n",
    "    splits = Utils.COMMA_DELIMITER.split(line)\n",
    "    return \"{}, {}\".format(splits[1], splits[2])\n",
    "\n",
    "if __name__ == \"__main__\":\n",
    "    conf = SparkConf().setAppName(\"airports\").setMaster(\"local[4]\")\n",
    "    sc = SparkContext(conf = conf)\n",
    "\n",
    "    airports = sc.textFile(\"res/airports.text\")\n",
    "    airportsInUSA = airports.filter(lambda line : Utils.COMMA_DELIMITER.split(line)[3] == \"\\\"United States\\\"\")\n",
    "\n",
    "    # Remove folder if exist\n",
    "    shutil.rmtree('out/airports_in_usa.text', ignore_errors=True)\n",
    "\n",
    "    airportsNameAndCityNames = airportsInUSA.map(splitComma)\n",
    "    airportsNameAndCityNames.saveAsTextFile(\"out/airports_in_usa.text\")\n",
    "#sc.stop()"
   ]
  },
  {
   "cell_type": "code",
   "execution_count": 28,
   "metadata": {},
   "outputs": [],
   "source": [
    "\n",
    "sc.stop()"
   ]
  },
  {
   "cell_type": "code",
   "execution_count": 27,
   "metadata": {},
   "outputs": [
    {
     "data": {
      "text/plain": [
       "PythonRDD[5] at RDD at PythonRDD.scala:53"
      ]
     },
     "execution_count": 27,
     "metadata": {},
     "output_type": "execute_result"
    }
   ],
   "source": [
    "airportsNameAndCityNames"
   ]
  },
  {
   "cell_type": "code",
   "execution_count": 29,
   "metadata": {},
   "outputs": [],
   "source": [
    "from pyspark.sql import SparkSession"
   ]
  },
  {
   "cell_type": "code",
   "execution_count": 30,
   "metadata": {},
   "outputs": [],
   "source": [
    "spark = SparkSession.builder.appName('Basics').getOrCreate()"
   ]
  },
  {
   "cell_type": "code",
   "execution_count": null,
   "metadata": {},
   "outputs": [],
   "source": []
  }
 ],
 "metadata": {
  "kernelspec": {
   "display_name": "Python 3",
   "language": "python",
   "name": "python3"
  },
  "language_info": {
   "codemirror_mode": {
    "name": "ipython",
    "version": 3
   },
   "file_extension": ".py",
   "mimetype": "text/x-python",
   "name": "python",
   "nbconvert_exporter": "python",
   "pygments_lexer": "ipython3",
   "version": "3.7.6"
  }
 },
 "nbformat": 4,
 "nbformat_minor": 4
}
